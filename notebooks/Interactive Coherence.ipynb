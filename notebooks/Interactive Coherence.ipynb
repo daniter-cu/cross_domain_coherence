{
 "cells": [
  {
   "cell_type": "code",
   "execution_count": 1,
   "metadata": {},
   "outputs": [],
   "source": [
    "%load_ext autoreload\n",
    "%autoreload 2\n",
    "\n",
    "import sys\n",
    "sys.path.append(\"../\")\n",
    "    \n"
   ]
  },
  {
   "cell_type": "code",
   "execution_count": 4,
   "metadata": {},
   "outputs": [],
   "source": [
    "from models.coherence_models import BigramCoherence\n",
    "from utils.lm_utils import Corpus, SentCorpus\n",
    "import argparse\n",
    "from add_args import add_bigram_args\n",
    "import notebookconfig\n",
    "from utils.data_utils import DataSet\n",
    "from preprocess import get_lm_hidden\n"
   ]
  },
  {
   "cell_type": "code",
   "execution_count": 10,
   "metadata": {},
   "outputs": [
    {
     "name": "stdout",
     "output_type": "stream",
     "text": [
      "(40812, 300)\n"
     ]
    },
    {
     "name": "stderr",
     "output_type": "stream",
     "text": [
      "\n",
      "  0%|          | 0/100 [00:00<?, ?it/s]\u001b[A\n",
      "  2%|▏         | 2/100 [00:00<00:08, 11.80it/s]\u001b[A\n",
      "  4%|▍         | 4/100 [00:00<00:07, 12.65it/s]\u001b[A\n",
      "  6%|▌         | 6/100 [00:00<00:06, 13.45it/s]\u001b[A\n",
      "  8%|▊         | 8/100 [00:00<00:06, 13.62it/s]\u001b[A\n",
      " 10%|█         | 10/100 [00:00<00:07, 11.75it/s]\u001b[A\n",
      " 12%|█▏        | 12/100 [00:00<00:07, 12.43it/s]\u001b[A\n",
      " 14%|█▍        | 14/100 [00:01<00:06, 13.12it/s]\u001b[A\n",
      " 16%|█▌        | 16/100 [00:01<00:06, 13.73it/s]\u001b[A\n",
      " 18%|█▊        | 18/100 [00:01<00:05, 14.22it/s]\u001b[A\n",
      " 20%|██        | 20/100 [00:01<00:05, 14.85it/s]\u001b[A\n",
      " 22%|██▏       | 22/100 [00:01<00:05, 14.21it/s]\u001b[A\n",
      " 24%|██▍       | 24/100 [00:01<00:05, 14.81it/s]\u001b[A\n",
      " 26%|██▌       | 26/100 [00:01<00:04, 15.08it/s]\u001b[A\n",
      " 28%|██▊       | 28/100 [00:01<00:04, 15.74it/s]\u001b[A\n",
      " 30%|███       | 30/100 [00:02<00:04, 16.54it/s]\u001b[A\n",
      " 33%|███▎      | 33/100 [00:02<00:03, 17.39it/s]\u001b[A\n",
      " 35%|███▌      | 35/100 [00:02<00:03, 16.65it/s]\u001b[A\n",
      " 37%|███▋      | 37/100 [00:02<00:03, 17.23it/s]\u001b[A\n",
      " 39%|███▉      | 39/100 [00:02<00:03, 16.37it/s]\u001b[A\n",
      " 42%|████▏     | 42/100 [00:02<00:03, 18.82it/s]\u001b[A\n",
      " 45%|████▌     | 45/100 [00:02<00:02, 20.91it/s]\u001b[A\n",
      " 48%|████▊     | 48/100 [00:02<00:02, 19.56it/s]\u001b[A\n",
      " 51%|█████     | 51/100 [00:03<00:02, 20.30it/s]\u001b[A\n",
      " 54%|█████▍    | 54/100 [00:03<00:03, 13.82it/s]\u001b[A\n",
      " 56%|█████▌    | 56/100 [00:03<00:03, 14.42it/s]\u001b[A\n",
      " 58%|█████▊    | 58/100 [00:03<00:02, 15.41it/s]\u001b[A\n",
      " 60%|██████    | 60/100 [00:03<00:02, 13.75it/s]\u001b[A\n",
      " 62%|██████▏   | 62/100 [00:04<00:03, 12.28it/s]\u001b[A\n",
      " 64%|██████▍   | 64/100 [00:04<00:03,  9.90it/s]\u001b[A\n",
      " 67%|██████▋   | 67/100 [00:04<00:02, 12.38it/s]\u001b[A\n",
      " 69%|██████▉   | 69/100 [00:04<00:02, 12.89it/s]\u001b[A\n",
      " 71%|███████   | 71/100 [00:04<00:02, 11.13it/s]\u001b[A\n",
      " 73%|███████▎  | 73/100 [00:05<00:02, 11.39it/s]\u001b[A\n",
      " 75%|███████▌  | 75/100 [00:05<00:02, 10.84it/s]\u001b[A\n",
      " 77%|███████▋  | 77/100 [00:05<00:02, 11.28it/s]\u001b[A\n",
      " 80%|████████  | 80/100 [00:05<00:01, 13.38it/s]\u001b[A\n",
      " 82%|████████▏ | 82/100 [00:05<00:01, 12.94it/s]\u001b[A\n",
      " 84%|████████▍ | 84/100 [00:05<00:01, 10.57it/s]\u001b[A\n",
      " 87%|████████▋ | 87/100 [00:06<00:01, 12.38it/s]\u001b[A\n",
      " 89%|████████▉ | 89/100 [00:06<00:00, 13.21it/s]\u001b[A\n",
      " 91%|█████████ | 91/100 [00:06<00:00, 14.17it/s]\u001b[A\n",
      " 93%|█████████▎| 93/100 [00:06<00:00, 14.63it/s]\u001b[A\n",
      " 95%|█████████▌| 95/100 [00:06<00:00, 13.69it/s]\u001b[A\n",
      " 97%|█████████▋| 97/100 [00:06<00:00, 14.66it/s]\u001b[A\n",
      "100%|██████████| 100/100 [00:07<00:00, 14.24it/s][A\n"
     ]
    }
   ],
   "source": [
    "embed_dim = 2048\n",
    "parser = argparse.ArgumentParser()\n",
    "add_bigram_args(parser)\n",
    "args = parser.parse_args([])\n",
    "\n",
    "dataset = DataSet(notebookconfig.DATASET[args.data_name])\n",
    "#dataset.data_path = \"../\" + dataset.data_path\n",
    "\n",
    "train_dataset = dataset.load_train(args.portion)\n",
    "test_dataset = dataset.load_test(args.portion)\n",
    "\n",
    "corpus = Corpus(train_dataset.file_list, test_dataset.file_list, notebookconfig.WORD_EMBEDDING)\n",
    "sent_embedding = get_lm_hidden(args.data_name, \"lm_\" + args.data_name, corpus, limit=100)\n",
    "\n",
    "\n",
    "    \n",
    "kwargs = {\n",
    "    \"embed_dim\": embed_dim,\n",
    "    \"sent_encoder\": sent_embedding,\n",
    "    \"hparams\": {\n",
    "        \"loss\": args.loss,\n",
    "        \"input_dropout\": args.input_dropout,\n",
    "        \"hidden_state\": args.hidden_state,\n",
    "        \"hidden_layers\": args.hidden_layers,\n",
    "        \"hidden_dropout\": args.hidden_dropout,\n",
    "        \"num_epochs\": args.num_epochs,\n",
    "        \"margin\": args.margin,\n",
    "        \"lr\": args.lr,\n",
    "        \"l2_reg_lambda\": args.l2_reg_lambda,\n",
    "        \"use_bn\": args.use_bn,\n",
    "        \"task\": \"discrimination\",\n",
    "        \"bidirectional\": args.bidirectional,\n",
    "    }\n",
    "}"
   ]
  },
  {
   "cell_type": "code",
   "execution_count": 11,
   "metadata": {},
   "outputs": [],
   "source": [
    "model = BigramCoherence(**kwargs)"
   ]
  },
  {
   "cell_type": "code",
   "execution_count": null,
   "metadata": {},
   "outputs": [],
   "source": []
  }
 ],
 "metadata": {
  "kernelspec": {
   "display_name": "coh",
   "language": "python",
   "name": "coh"
  },
  "language_info": {
   "codemirror_mode": {
    "name": "ipython",
    "version": 3
   },
   "file_extension": ".py",
   "mimetype": "text/x-python",
   "name": "python",
   "nbconvert_exporter": "python",
   "pygments_lexer": "ipython3",
   "version": "3.7.7"
  }
 },
 "nbformat": 4,
 "nbformat_minor": 2
}
